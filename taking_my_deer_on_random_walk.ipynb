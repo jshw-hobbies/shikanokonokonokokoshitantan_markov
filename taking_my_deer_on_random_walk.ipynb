{
 "cells": [
  {
   "cell_type": "code",
   "execution_count": 10,
   "id": "799d9b0b",
   "metadata": {},
   "outputs": [],
   "source": [
    "import numpy as np\n",
    "import pandas as pd\n",
    "import random\n",
    "import matplotlib.pyplot as plt"
   ]
  },
  {
   "cell_type": "code",
   "execution_count": 16,
   "id": "9e8e63c5",
   "metadata": {},
   "outputs": [
    {
     "data": {
      "text/html": [
       "<div>\n",
       "<style scoped>\n",
       "    .dataframe tbody tr th:only-of-type {\n",
       "        vertical-align: middle;\n",
       "    }\n",
       "\n",
       "    .dataframe tbody tr th {\n",
       "        vertical-align: top;\n",
       "    }\n",
       "\n",
       "    .dataframe thead th {\n",
       "        text-align: right;\n",
       "    }\n",
       "</style>\n",
       "<table border=\"1\" class=\"dataframe\">\n",
       "  <thead>\n",
       "    <tr style=\"text-align: right;\">\n",
       "      <th></th>\n",
       "      <th>し</th>\n",
       "      <th>か</th>\n",
       "      <th>の</th>\n",
       "      <th>こ</th>\n",
       "      <th>た</th>\n",
       "      <th>ん</th>\n",
       "      <th>_</th>\n",
       "    </tr>\n",
       "  </thead>\n",
       "  <tbody>\n",
       "    <tr>\n",
       "      <th>し</th>\n",
       "      <td>0.00</td>\n",
       "      <td>0.5</td>\n",
       "      <td>0.0</td>\n",
       "      <td>0.00</td>\n",
       "      <td>0.5</td>\n",
       "      <td>0</td>\n",
       "      <td>0.0</td>\n",
       "    </tr>\n",
       "    <tr>\n",
       "      <th>か</th>\n",
       "      <td>0.00</td>\n",
       "      <td>0.0</td>\n",
       "      <td>1.0</td>\n",
       "      <td>0.00</td>\n",
       "      <td>0.0</td>\n",
       "      <td>0</td>\n",
       "      <td>0.0</td>\n",
       "    </tr>\n",
       "    <tr>\n",
       "      <th>の</th>\n",
       "      <td>0.00</td>\n",
       "      <td>0.0</td>\n",
       "      <td>0.0</td>\n",
       "      <td>1.00</td>\n",
       "      <td>0.0</td>\n",
       "      <td>0</td>\n",
       "      <td>0.0</td>\n",
       "    </tr>\n",
       "    <tr>\n",
       "      <th>こ</th>\n",
       "      <td>0.25</td>\n",
       "      <td>0.0</td>\n",
       "      <td>0.5</td>\n",
       "      <td>0.25</td>\n",
       "      <td>0.0</td>\n",
       "      <td>0</td>\n",
       "      <td>0.0</td>\n",
       "    </tr>\n",
       "    <tr>\n",
       "      <th>た</th>\n",
       "      <td>0.00</td>\n",
       "      <td>0.0</td>\n",
       "      <td>0.0</td>\n",
       "      <td>0.00</td>\n",
       "      <td>0.0</td>\n",
       "      <td>1</td>\n",
       "      <td>0.0</td>\n",
       "    </tr>\n",
       "    <tr>\n",
       "      <th>ん</th>\n",
       "      <td>0.00</td>\n",
       "      <td>0.0</td>\n",
       "      <td>0.0</td>\n",
       "      <td>0.00</td>\n",
       "      <td>0.5</td>\n",
       "      <td>0</td>\n",
       "      <td>0.5</td>\n",
       "    </tr>\n",
       "    <tr>\n",
       "      <th>_</th>\n",
       "      <td>0.50</td>\n",
       "      <td>0.0</td>\n",
       "      <td>0.0</td>\n",
       "      <td>0.00</td>\n",
       "      <td>0.0</td>\n",
       "      <td>0</td>\n",
       "      <td>0.5</td>\n",
       "    </tr>\n",
       "  </tbody>\n",
       "</table>\n",
       "</div>"
      ],
      "text/plain": [
       "      し    か    の     こ    た  ん    _\n",
       "し  0.00  0.5  0.0  0.00  0.5  0  0.0\n",
       "か  0.00  0.0  1.0  0.00  0.0  0  0.0\n",
       "の  0.00  0.0  0.0  1.00  0.0  0  0.0\n",
       "こ  0.25  0.0  0.5  0.25  0.0  0  0.0\n",
       "た  0.00  0.0  0.0  0.00  0.0  1  0.0\n",
       "ん  0.00  0.0  0.0  0.00  0.5  0  0.5\n",
       "_  0.50  0.0  0.0  0.00  0.0  0  0.5"
      ]
     },
     "execution_count": 16,
     "metadata": {},
     "output_type": "execute_result"
    }
   ],
   "source": [
    "# great video, go watch it https://www.youtube.com/watch?v=Xkq13ZthmA0\n",
    "\n",
    "# Assuming you want to take your deer on a random walk along the markov chain:\n",
    "\n",
    "# the numbers in matrix each row here denotes the probability to move to the state of the label from the relevant stat\n",
    "\n",
    "shikanoko = {'し':[0,0,0,.25,0,0,.5],\n",
    "             'か':[.5,0,0,0,0,0,0],\n",
    "             'の': [0,1,0,.5,0,0,0],\n",
    "             'こ':[0,0,1,.25,0,0,0],\n",
    "             'た':[.5,0,0,0,0,.5,0],\n",
    "             'ん':[0,0,0,0,1,0,0],\n",
    "             '_':[0,0,0,0,0,.5,.5]}\n",
    "\n",
    "# put your shika as a panda\n",
    "\n",
    "shika = pd.DataFrame(data = shikanoko, index = ['し', 'か', 'の', 'こ','た','ん','_'])\n",
    "shika"
   ]
  },
  {
   "cell_type": "code",
   "execution_count": 20,
   "id": "18791708",
   "metadata": {},
   "outputs": [],
   "source": [
    "the_lyrics = []\n",
    "\n",
    "# Use shika.iloc[0].index[0] to select the inital state, which is 'し', I guess?\n",
    "# do the first iteration\n",
    "\n",
    "the_lyrics.append(shika.iloc[0].index[0])\n",
    "koshitantan = np.random.choice(shika.iloc[0].index, p= shika.iloc[0])\n",
    "the_lyrics.append(koshitantan)\n",
    "\n",
    "# edit the while loop value to get the steps that you wanted your shika to walk\n",
    "\n",
    "while len(the_lyrics) <100:\n",
    "    koshitantan = np.random.choice(shika.iloc[shika.index.get_loc(koshitantan)].index, p = shika.iloc[shika.index.get_loc(koshitantan)])\n",
    "    the_lyrics.append(koshitantan)"
   ]
  },
  {
   "cell_type": "code",
   "execution_count": 22,
   "id": "e7aa958a",
   "metadata": {},
   "outputs": [
    {
     "name": "stdout",
     "output_type": "stream",
     "text": [
      "['し', 'か', 'の', 'こ', 'の', 'こ', 'の', 'こ', 'こ', 'こ', 'の', 'こ', 'の', 'こ', 'こ', 'の', 'こ', 'の', 'こ', 'こ', 'の', 'こ', 'し', 'か', 'の', 'こ', 'こ', 'し', 'た', 'ん', 'た', 'ん', '_', '_', 'し', 'た', 'ん', 'た', 'ん', '_', '_', 'し', 'た', 'ん', 'た', 'ん', 'た', 'ん', 'た', 'ん', '_', 'し', 'か', 'の', 'こ', 'の', 'こ', 'の', 'こ', 'し', 'か', 'の', 'こ', 'し', 'か', 'の', 'こ', 'の', 'こ', 'し', 'た', 'ん', 'た', 'ん', '_', 'し', 'た', 'ん', '_', '_', '_', 'し', 'た', 'ん', '_', '_', '_', '_', '_', '_', '_', '_', 'し', 'か', 'の', 'こ', 'し', 'た', 'ん', '_']\n"
     ]
    }
   ],
   "source": [
    "print(the_lyrics)"
   ]
  },
  {
   "cell_type": "code",
   "execution_count": null,
   "id": "f2e251eb",
   "metadata": {},
   "outputs": [],
   "source": []
  },
  {
   "cell_type": "code",
   "execution_count": null,
   "id": "0b6d8ba0",
   "metadata": {},
   "outputs": [],
   "source": []
  }
 ],
 "metadata": {
  "kernelspec": {
   "display_name": "Python 3 (ipykernel)",
   "language": "python",
   "name": "python3"
  },
  "language_info": {
   "codemirror_mode": {
    "name": "ipython",
    "version": 3
   },
   "file_extension": ".py",
   "mimetype": "text/x-python",
   "name": "python",
   "nbconvert_exporter": "python",
   "pygments_lexer": "ipython3",
   "version": "3.7.1"
  }
 },
 "nbformat": 4,
 "nbformat_minor": 5
}
